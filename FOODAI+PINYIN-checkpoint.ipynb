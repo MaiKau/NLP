{
 "cells": [
  {
   "cell_type": "code",
   "execution_count": 56,
   "id": "00f6de7c",
   "metadata": {},
   "outputs": [],
   "source": [
    "import requests\n",
    "import json\n",
    "from googletrans import Translator\n",
    "from pprint import pprint\n",
    "import re\n",
    "from hanziconv import HanziConv           #簡繁轉換\n",
    "from Pinyin2Hanzi import DefaultDagParams #Pinyin2Hanzi 拼音轉漢字\n",
    "from Pinyin2Hanzi import dag\n",
    "from Pinyin2Hanzi import DefaultHmmParams\n",
    "from Pinyin2Hanzi import viterbi\n",
    "\n",
    "# filePath = \"./steak.jpg\"\n",
    "#api地址\n",
    "url = 'https://api.foodai.org/v4.1/classify'\n",
    "#api申請的 key\n",
    "api_key = '63889c3121ee516c7c978448964ead1ca534f687'\n",
    "\n",
    "#回傳的格式參數\n",
    "def json_params(_img, _qid=-1, _num_tag=1, _api_key=''):\n",
    "    return dict(\n",
    "        image_url=_img,\n",
    "        num_tag=_num_tag,\n",
    "        qid=_qid,\n",
    "        api_key=_api_key\n",
    "        )\n",
    "\n",
    "#post\n",
    "def main():\n",
    "    # Open Image File\n",
    "    with open(filePath, 'rb') as f:\n",
    "        image_bytes = f.read()\n",
    "        image_data = dict(image_data=image_bytes)\n",
    "\n",
    "    # provide your api key and add more parameters in post body if you want.\n",
    "    json_data = dict(api_key=api_key)\n",
    "\n",
    "    # Send Requests\n",
    "    resp = requests.post(url=url, files=image_data, data=json_data)\n",
    "\n",
    "    # Check the JSON Response Content documentation below\n",
    "    #print(resp.json())\n",
    "\n",
    "#辨識與字串處理\n",
    "def openimg(filePath):\n",
    "    with open(filePath, 'rb') as f:    #rb 二進制\n",
    "        image_bytes = f.read()\n",
    "        files = {'image_data': image_bytes}\n",
    "    \n",
    "        # provide your api key and add more  parameter in  post body if  you want.\n",
    "        # or  more detail  of   parameter you can check developer  doc- https://foodai.org/developer#doc\n",
    "\n",
    "        d = {'api_key':api_key,\n",
    "             'num_tag':1 }\n",
    "        text = requests.post(url, files=files, data = d).text \n",
    "    json_str=json.loads(text)\n",
    "    food_results=json_str[\"food_results\"]\n",
    "    food_results_by_category=json_str[\"food_results_by_category\"]\n",
    "    \n",
    "    translator = Translator(service_urls=['translate.google.cn'])\n",
    "    result = food_results[0][0]\n",
    "    result = translator.translate (result ,dest='zh-tw').text\n",
    "    result = result.lower()\n",
    "    result = result.replace('.', '')\n",
    "    print(\"google翻譯結果：\",result)\n",
    "    result_C=[]\n",
    "    zhPattern = re.compile(u'[\\u4e00-\\u9fa5]+')  #中文字正則化\n",
    "    match = zhPattern.search(result)                #是否含有中文字\n",
    "    if match:                                    #有，則不轉譯\n",
    "        result=result\n",
    "        print(\"已含中文保持：\",result)\n",
    "    else:\n",
    "        try:                                     #嘗試轉譯\n",
    "#             hmmparams = DefaultHmmParams()\n",
    "#             results = viterbi(hmm_params=hmmparams, observations=(result.split()), path_num = 1)\n",
    "            dagparams = DefaultDagParams()\n",
    "            results = dag(dagparams, (result.split()), path_num=1)\n",
    "            for item in results:\n",
    "                print(\"拼音轉譯：\",item.score, HanziConv.toTraditional(item.path))\n",
    "                result_C.append(HanziConv.toTraditional(item.path))\n",
    "                print(result_C)\n",
    "        except:                                  #轉譯不了仍保持原樣\n",
    "            result=result\n",
    "        \n",
    "    if len(result_C) > 0:\n",
    "        return result_C                               \n",
    "    else:\n",
    "        return result"
   ]
  },
  {
   "cell_type": "code",
   "execution_count": 62,
   "id": "b8a064f9",
   "metadata": {},
   "outputs": [
    {
     "name": "stdout",
     "output_type": "stream",
     "text": [
      "google翻譯結果： 烤mooncake用蛋黃\n",
      "已含中文保持： 烤mooncake用蛋黃\n"
     ]
    },
    {
     "data": {
      "text/plain": [
       "'烤mooncake用蛋黃'"
      ]
     },
     "execution_count": 62,
     "metadata": {},
     "output_type": "execute_result"
    }
   ],
   "source": [
    "openimg(\"./food影像測試圖片/月餅.jpg\")\n",
    "# openimg(\"./food影像測試圖片/沙琪瑪.jpg\")\n",
    "# openimg(\"./food影像測試圖片/紅龜粿.jpg\")"
   ]
  }
 ],
 "metadata": {
  "kernelspec": {
   "display_name": "Python 3",
   "language": "python",
   "name": "python3"
  },
  "language_info": {
   "codemirror_mode": {
    "name": "ipython",
    "version": 3
   },
   "file_extension": ".py",
   "mimetype": "text/x-python",
   "name": "python",
   "nbconvert_exporter": "python",
   "pygments_lexer": "ipython3",
   "version": "3.8.8"
  }
 },
 "nbformat": 4,
 "nbformat_minor": 5
}
