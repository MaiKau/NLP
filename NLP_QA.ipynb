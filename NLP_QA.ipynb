{
  "nbformat": 4,
  "nbformat_minor": 0,
  "metadata": {
    "colab": {
      "name": "NLP QA",
      "provenance": [],
      "collapsed_sections": []
    },
    "kernelspec": {
      "name": "python3",
      "display_name": "Python 3"
    }
  },
  "cells": [
    {
      "cell_type": "code",
      "metadata": {
        "id": "q5T-c3dRggae",
        "colab": {
          "base_uri": "https://localhost:8080/"
        },
        "outputId": "f4c2f0f9-233b-488d-ee5f-4c277abd9aa1"
      },
      "source": [
        "# install dependencies\n",
        "!pip install transformers"
      ],
      "execution_count": null,
      "outputs": [
        {
          "output_type": "stream",
          "text": [
            "Collecting transformers\n",
            "\u001b[?25l  Downloading https://files.pythonhosted.org/packages/98/87/ef312eef26f5cecd8b17ae9654cdd8d1fae1eb6dbd87257d6d73c128a4d0/transformers-4.3.2-py3-none-any.whl (1.8MB)\n",
            "\u001b[K     |████████████████████████████████| 1.8MB 5.6MB/s \n",
            "\u001b[?25hRequirement already satisfied: tqdm>=4.27 in /usr/local/lib/python3.7/dist-packages (from transformers) (4.41.1)\n",
            "Requirement already satisfied: numpy>=1.17 in /usr/local/lib/python3.7/dist-packages (from transformers) (1.19.5)\n",
            "Requirement already satisfied: packaging in /usr/local/lib/python3.7/dist-packages (from transformers) (20.9)\n",
            "Collecting tokenizers<0.11,>=0.10.1\n",
            "\u001b[?25l  Downloading https://files.pythonhosted.org/packages/71/23/2ddc317b2121117bf34dd00f5b0de194158f2a44ee2bf5e47c7166878a97/tokenizers-0.10.1-cp37-cp37m-manylinux2010_x86_64.whl (3.2MB)\n",
            "\u001b[K     |████████████████████████████████| 3.2MB 21.0MB/s \n",
            "\u001b[?25hRequirement already satisfied: requests in /usr/local/lib/python3.7/dist-packages (from transformers) (2.23.0)\n",
            "Requirement already satisfied: filelock in /usr/local/lib/python3.7/dist-packages (from transformers) (3.0.12)\n",
            "Collecting sacremoses\n",
            "\u001b[?25l  Downloading https://files.pythonhosted.org/packages/7d/34/09d19aff26edcc8eb2a01bed8e98f13a1537005d31e95233fd48216eed10/sacremoses-0.0.43.tar.gz (883kB)\n",
            "\u001b[K     |████████████████████████████████| 890kB 40.7MB/s \n",
            "\u001b[?25hRequirement already satisfied: importlib-metadata; python_version < \"3.8\" in /usr/local/lib/python3.7/dist-packages (from transformers) (3.4.0)\n",
            "Requirement already satisfied: regex!=2019.12.17 in /usr/local/lib/python3.7/dist-packages (from transformers) (2019.12.20)\n",
            "Requirement already satisfied: pyparsing>=2.0.2 in /usr/local/lib/python3.7/dist-packages (from packaging->transformers) (2.4.7)\n",
            "Requirement already satisfied: certifi>=2017.4.17 in /usr/local/lib/python3.7/dist-packages (from requests->transformers) (2020.12.5)\n",
            "Requirement already satisfied: urllib3!=1.25.0,!=1.25.1,<1.26,>=1.21.1 in /usr/local/lib/python3.7/dist-packages (from requests->transformers) (1.24.3)\n",
            "Requirement already satisfied: chardet<4,>=3.0.2 in /usr/local/lib/python3.7/dist-packages (from requests->transformers) (3.0.4)\n",
            "Requirement already satisfied: idna<3,>=2.5 in /usr/local/lib/python3.7/dist-packages (from requests->transformers) (2.10)\n",
            "Requirement already satisfied: six in /usr/local/lib/python3.7/dist-packages (from sacremoses->transformers) (1.15.0)\n",
            "Requirement already satisfied: click in /usr/local/lib/python3.7/dist-packages (from sacremoses->transformers) (7.1.2)\n",
            "Requirement already satisfied: joblib in /usr/local/lib/python3.7/dist-packages (from sacremoses->transformers) (1.0.1)\n",
            "Requirement already satisfied: zipp>=0.5 in /usr/local/lib/python3.7/dist-packages (from importlib-metadata; python_version < \"3.8\"->transformers) (3.4.0)\n",
            "Requirement already satisfied: typing-extensions>=3.6.4; python_version < \"3.8\" in /usr/local/lib/python3.7/dist-packages (from importlib-metadata; python_version < \"3.8\"->transformers) (3.7.4.3)\n",
            "Building wheels for collected packages: sacremoses\n",
            "  Building wheel for sacremoses (setup.py) ... \u001b[?25l\u001b[?25hdone\n",
            "  Created wheel for sacremoses: filename=sacremoses-0.0.43-cp37-none-any.whl size=893262 sha256=a23e2537baae598a191f6daf2c9f3f7dfc87a889760ed5db38cb0f1b9a42b3f5\n",
            "  Stored in directory: /root/.cache/pip/wheels/29/3c/fd/7ce5c3f0666dab31a50123635e6fb5e19ceb42ce38d4e58f45\n",
            "Successfully built sacremoses\n",
            "Installing collected packages: tokenizers, sacremoses, transformers\n",
            "Successfully installed sacremoses-0.0.43 tokenizers-0.10.1 transformers-4.3.2\n"
          ],
          "name": "stdout"
        }
      ]
    },
    {
      "cell_type": "code",
      "metadata": {
        "id": "vHpUTWm8fjcw",
        "colab": {
          "base_uri": "https://localhost:8080/"
        },
        "outputId": "ad4ece4c-05d8-4b88-e23d-2079d8edc2f1"
      },
      "source": [
        "# load libraries\n",
        "from transformers import *\n",
        "\n",
        "# initialize question-answering task\n",
        "nlp = pipeline('question-answering')\n",
        "\n",
        "# set sample question and context\n",
        "question = \"What is recommended for diabetes?\"\n",
        "context =\"Diabetes recommends eating more apples, which can lower blood sugar.\"\n",
        "\n",
        "# get answer from sample question and context\n",
        "ans = nlp({\"question\": question, \"context\": context})\n",
        "print(ans)\n"
      ],
      "execution_count": null,
      "outputs": [
        {
          "output_type": "stream",
          "text": [
            "{'score': 0.47344136238098145, 'start': 20, 'end': 38, 'answer': 'eating more apples'}\n"
          ],
          "name": "stdout"
        }
      ]
    },
    {
      "cell_type": "code",
      "metadata": {
        "id": "7lBxjk60BliS",
        "colab": {
          "base_uri": "https://localhost:8080/"
        },
        "outputId": "4444811b-f30f-48c4-cb85-d6e834217f54"
      },
      "source": [
        "from transformers import *\n",
        "\n",
        "# initialize question-answering task\n",
        "nlp = pipeline('question-answering')\n",
        "\n",
        "# set sample question and context\n",
        "question = \"建議糖尿病患者吃什麼食物?\"\n",
        "context =\"建議吃蘋果，有助於降低血糖，維持身體健康\"\n",
        "\n",
        "# get answer from sample question and context\n",
        "ans = nlp({\"question\": question, \"context\": context})\n",
        "print(ans)"
      ],
      "execution_count": null,
      "outputs": [
        {
          "output_type": "stream",
          "text": [
            "{'score': 0.008382975123822689, 'start': 0, 'end': 5, 'answer': '建議吃蘋果'}\n"
          ],
          "name": "stdout"
        }
      ]
    },
    {
      "cell_type": "code",
      "metadata": {
        "id": "dU28enzfCxUy",
        "colab": {
          "base_uri": "https://localhost:8080/"
        },
        "outputId": "e4632d28-cbb2-4d84-cb08-92203baa968b"
      },
      "source": [
        "nlp = pipeline('question-answering')\n",
        "\n",
        "# set sample question and context\n",
        "question = \"What day is today?\"\n",
        "context =\"Today is Saturday(January 25, 2000), and the weather in Taipei is fine\"\n",
        "\n",
        "# get answer from sample question and context\n",
        "ans = nlp({\"question\": question, \"context\": context})\n",
        "print(ans)"
      ],
      "execution_count": null,
      "outputs": [
        {
          "output_type": "stream",
          "text": [
            "{'score': 0.9700515866279602, 'start': 9, 'end': 17, 'answer': 'Saturday'}\n"
          ],
          "name": "stdout"
        }
      ]
    },
    {
      "cell_type": "code",
      "metadata": {
        "id": "ZY14z7CDBTCp",
        "colab": {
          "base_uri": "https://localhost:8080/"
        },
        "outputId": "de727fa5-992b-42e8-cbe0-246c2edaa1e8"
      },
      "source": [
        "\n",
        "nlp = pipeline('question-answering')\n",
        "\n",
        "# set sample question and context\n",
        "question = \"今天星期幾?\"\n",
        "context =\"今日為西元2000年1月25日星期6，台北天氣晴朗\"\n",
        "\n",
        "# get answer from sample question and context\n",
        "ans = nlp({\"question\": question, \"context\": context})\n",
        "print(ans)"
      ],
      "execution_count": null,
      "outputs": [
        {
          "output_type": "stream",
          "text": [
            "{'score': 0.10299526900053024, 'start': 5, 'end': 18, 'answer': '2000年1月25日星期6'}\n"
          ],
          "name": "stdout"
        }
      ]
    },
    {
      "cell_type": "code",
      "metadata": {
        "id": "7HU37sGfDqaP",
        "colab": {
          "base_uri": "https://localhost:8080/"
        },
        "outputId": "deee7863-f9ca-428e-9746-32d81d05e68b"
      },
      "source": [
        "nlp = pipeline('question-answering')\n",
        "\n",
        "# set sample question and context\n",
        "question = \"Where will this singer appear next time?\"\n",
        "context =\"The singer is going to be at the bookstore in Taipei at 6:00 PM on Wednesday evening on May 20, 2020.\"\n",
        "\n",
        "# get answer from sample question and context\n",
        "ans = nlp({\"question\": question, \"context\": context})\n",
        "print(ans)"
      ],
      "execution_count": null,
      "outputs": [
        {
          "output_type": "stream",
          "text": [
            "{'score': 0.2999061942100525, 'start': 46, 'end': 52, 'answer': 'Taipei'}\n"
          ],
          "name": "stdout"
        }
      ]
    },
    {
      "cell_type": "code",
      "metadata": {
        "id": "osUeNuP_EEFJ",
        "colab": {
          "base_uri": "https://localhost:8080/"
        },
        "outputId": "2e55c7a9-8964-440f-d2ef-877711cead89"
      },
      "source": [
        "nlp = pipeline('question-answering')\n",
        "\n",
        "# set sample question and context\n",
        "question = \"請問這位歌手會在什麼地方出現?\"\n",
        "context =\"這位歌手將會在臺北的書店出現，於2020/1/2星期3的晚上6點。\"\n",
        "\n",
        "# get answer from sample question and context\n",
        "ans = nlp({\"question\": question, \"context\": context})\n",
        "print(ans)"
      ],
      "execution_count": null,
      "outputs": [
        {
          "output_type": "stream",
          "text": [
            "{'score': 0.03900205343961716, 'start': 16, 'end': 27, 'answer': '2020/1/2星期3'}\n"
          ],
          "name": "stdout"
        }
      ]
    }
  ]
}