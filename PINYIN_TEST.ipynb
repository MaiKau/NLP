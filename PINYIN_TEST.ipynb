{
 "cells": [
  {
   "cell_type": "code",
   "execution_count": 4,
   "id": "8a637be2",
   "metadata": {},
   "outputs": [
    {
     "name": "stdout",
     "output_type": "stream",
     "text": [
      "0.2 提拉米苏\n",
      "0.0022178315395324786 提拉密速\n",
      "0.002165663930253729 提拉密素\n",
      "0.002164343977979268 提拉米速\n",
      "0.0021613580573252925 提拉密訴\n",
      "0.002159144785332578 提拉迷速\n",
      "0.0021526948682128754 提拉秘速\n",
      "0.0021339768382139484 提拉密蘇\n",
      "0.0021251670361890065 提拉蜜速\n",
      "0.0021226565189175874 提拉彌速\n"
     ]
    }
   ],
   "source": [
    "#DAG\n",
    "from hanziconv import HanziConv\n",
    "from Pinyin2Hanzi import DefaultDagParams\n",
    "from Pinyin2Hanzi import dag\n",
    "\n",
    "word='ti la mi su' #key word\n",
    "\n",
    "dagparams = DefaultDagParams()\n",
    "\n",
    "result = dag(dagparams, (word.split()), path_num=10) #dag算法，空格切割，top10\n",
    "# result=dag(dagparams,('tilamisu'))\n",
    "for item in result:\n",
    "    print(item.score, HanziConv.toTraditional(item.path))"
   ]
  },
  {
   "cell_type": "code",
   "execution_count": 16,
   "id": "633491d9",
   "metadata": {},
   "outputs": [
    {
     "name": "stdout",
     "output_type": "stream",
     "text": [
      "7.038706847680976e-06 滿頭\n",
      "4.38703111802033e-06 饅頭\n",
      "7.22292319616181e-07 埋頭\n",
      "2.4937642129686724e-09 滿投\n",
      "2.4937642129686724e-09 滿頭\n",
      "2.4937642129686724e-09 滿偸\n",
      "2.4937642129686724e-09 滿紏\n",
      "2.4937642129686724e-09 滿鍮\n",
      "2.4937642129686724e-09 滿偷\n",
      "2.4937642129686724e-09 滿亠\n"
     ]
    }
   ],
   "source": [
    "#HMM\n",
    "from Pinyin2Hanzi import DefaultHmmParams\n",
    "from Pinyin2Hanzi import viterbi\n",
    "\n",
    "# word='man tou' #key word\n",
    "# word='hong gui guo'\n",
    "# word='cha shao bao'\n",
    "word='man tou'\n",
    "hmmparams = DefaultHmmParams()\n",
    "\n",
    "result = viterbi(hmm_params=hmmparams, observations=(word.split()), path_num = 10) #HMM算法，空格切割，top10\n",
    "for item in result:\n",
    "    print(item.score, HanziConv.toTraditional(item.path))"
   ]
  },
  {
   "cell_type": "code",
   "execution_count": 64,
   "id": "a6fd0c28",
   "metadata": {},
   "outputs": [
    {
     "name": "stdout",
     "output_type": "stream",
     "text": [
      "False\n",
      "True\n"
     ]
    }
   ],
   "source": [
    "from Pinyin2Hanzi import is_pinyin\n",
    "\n",
    "print(is_pinyin('Muah'))\n",
    "# 输出：False\n",
    "\n",
    "print(is_pinyin('chi'))\n",
    "# 输出：True"
   ]
  },
  {
   "cell_type": "code",
   "execution_count": 65,
   "id": "c4408d44",
   "metadata": {},
   "outputs": [],
   "source": [
    "import re\n",
    "from hanziconv import HanziConv\n",
    "from Pinyin2Hanzi import DefaultDagParams\n",
    "from Pinyin2Hanzi import dag\n",
    "from Pinyin2Hanzi import DefaultHmmParams\n",
    "from Pinyin2Hanzi import viterbi\n",
    "\n",
    "def pinyin(key):\n",
    "#     key='man tou'                            #關鍵字\n",
    "    key_C=[]\n",
    "    zhPattern = re.compile(u'[\\u4e00-\\u9fa5]+')  #中文字正則化\n",
    "    match = zhPattern.search(key)                #是否有中文字\n",
    "    if match:                                    #有，則不轉譯\n",
    "        key=key\n",
    "        print(\"保持1：\",key)\n",
    "    else:\n",
    "        try:                                     #嘗試轉譯\n",
    "            dagparams = DefaultDagParams()\n",
    "            result = dag(dagparams, (key.split()), path_num=10)\n",
    "            for item in result:\n",
    "                print(\"轉譯：\",item.score, HanziConv.toTraditional(item.path))\n",
    "                key_C.append(HanziConv.toTraditional(item.path))\n",
    "            print(key_C)\n",
    "        except:                                  #轉譯不了仍保持原樣\n",
    "            key=key\n",
    "            print(\"保持2\",key)\n",
    "        \n",
    "    if len(key_C) > 0:\n",
    "        return key_C                               \n",
    "    else:\n",
    "        return key"
   ]
  },
  {
   "cell_type": "code",
   "execution_count": 67,
   "id": "1fff0f28",
   "metadata": {},
   "outputs": [
    {
     "name": "stdout",
     "output_type": "stream",
     "text": [
      "轉譯： 0.0010647747151951426 薩剋碼\n",
      "轉譯： 0.0010647745883743478 薩尅碼\n",
      "轉譯： 0.001061557414113729 撒剋碼\n",
      "轉譯： 0.0010615572876761336 撒尅碼\n",
      "轉譯： 0.0010613719579106078 灑剋碼\n",
      "轉譯： 0.001061371831495101 灑尅碼\n",
      "轉譯： 0.0010591645579644874 颯剋碼\n",
      "轉譯： 0.0010591644318118949 颯尅碼\n",
      "轉譯： 0.0010590835673466336 挲剋碼\n",
      "轉譯： 0.0010590834412036877 挲尅碼\n",
      "['薩剋碼', '薩尅碼', '撒剋碼', '撒尅碼', '灑剋碼', '灑尅碼', '颯剋碼', '颯尅碼', '挲剋碼', '挲尅碼']\n"
     ]
    },
    {
     "data": {
      "text/plain": [
       "['薩剋碼', '薩尅碼', '撒剋碼', '撒尅碼', '灑剋碼', '灑尅碼', '颯剋碼', '颯尅碼', '挲剋碼', '挲尅碼']"
      ]
     },
     "execution_count": 67,
     "metadata": {},
     "output_type": "execute_result"
    }
   ],
   "source": [
    "pinyin('sa kei ma')"
   ]
  },
  {
   "cell_type": "code",
   "execution_count": 62,
   "id": "87489df1",
   "metadata": {},
   "outputs": [
    {
     "name": "stdout",
     "output_type": "stream",
     "text": [
      "保持1： man tou乾\n"
     ]
    },
    {
     "data": {
      "text/plain": [
       "'man tou乾'"
      ]
     },
     "execution_count": 62,
     "metadata": {},
     "output_type": "execute_result"
    }
   ],
   "source": [
    "pinyin('man tou乾')"
   ]
  },
  {
   "cell_type": "code",
   "execution_count": 63,
   "id": "4b28a2bc",
   "metadata": {},
   "outputs": [
    {
     "name": "stdout",
     "output_type": "stream",
     "text": [
      "保持2 QWERTYUIO\n"
     ]
    },
    {
     "data": {
      "text/plain": [
       "'QWERTYUIO'"
      ]
     },
     "execution_count": 63,
     "metadata": {},
     "output_type": "execute_result"
    }
   ],
   "source": [
    "pinyin('QWERTYUIO')"
   ]
  }
 ],
 "metadata": {
  "kernelspec": {
   "display_name": "Python 3",
   "language": "python",
   "name": "python3"
  },
  "language_info": {
   "codemirror_mode": {
    "name": "ipython",
    "version": 3
   },
   "file_extension": ".py",
   "mimetype": "text/x-python",
   "name": "python",
   "nbconvert_exporter": "python",
   "pygments_lexer": "ipython3",
   "version": "3.8.8"
  }
 },
 "nbformat": 4,
 "nbformat_minor": 5
}
